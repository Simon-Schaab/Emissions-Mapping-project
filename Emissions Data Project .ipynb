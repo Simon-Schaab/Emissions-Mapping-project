{
 "cells": [
  {
   "cell_type": "code",
   "execution_count": 3,
   "id": "80d28c55",
   "metadata": {
    "scrolled": false
   },
   "outputs": [],
   "source": [
    "import pandas as pd"
   ]
  },
  {
   "cell_type": "code",
   "execution_count": 5,
   "id": "068f1ac8",
   "metadata": {},
   "outputs": [],
   "source": [
    "import matplotlib.pyplot as plt\n",
    "import matplotlib as mpl\n",
    "import numpy as np\n"
   ]
  },
  {
   "cell_type": "code",
   "execution_count": 6,
   "id": "abef9fd2",
   "metadata": {},
   "outputs": [],
   "source": [
    "data_1 = pd.read_csv(r\"C:\\\\Users\\\\user-1\\\\Desktop\\\\emissions map file\\\\Vehicle Data 2018.csv\")"
   ]
  },
  {
   "cell_type": "code",
   "execution_count": 7,
   "id": "4628ede4",
   "metadata": {},
   "outputs": [],
   "source": [
    "data_3 = pd.read_csv(r\"C:\\\\Users\\\\user-1\\\\Desktop\\\\emissions map file\\\\Vehicle Data 2020.csv\", dtype={'Model Year': str})"
   ]
  },
  {
   "cell_type": "code",
   "execution_count": 8,
   "id": "771d5f8f",
   "metadata": {},
   "outputs": [],
   "source": [
    "data_2 = pd.read_csv(r\"C:\\\\Users\\\\user-1\\\\Desktop\\\\emissions map file\\\\Vehicle Data 2022.csv\")"
   ]
  },
  {
   "cell_type": "code",
   "execution_count": 9,
   "id": "0edceb36",
   "metadata": {},
   "outputs": [
    {
     "data": {
      "text/html": [
       "<div>\n",
       "<style scoped>\n",
       "    .dataframe tbody tr th:only-of-type {\n",
       "        vertical-align: middle;\n",
       "    }\n",
       "\n",
       "    .dataframe tbody tr th {\n",
       "        vertical-align: top;\n",
       "    }\n",
       "\n",
       "    .dataframe thead th {\n",
       "        text-align: right;\n",
       "    }\n",
       "</style>\n",
       "<table border=\"1\" class=\"dataframe\">\n",
       "  <thead>\n",
       "    <tr style=\"text-align: right;\">\n",
       "      <th></th>\n",
       "      <th>_id</th>\n",
       "      <th>Date</th>\n",
       "      <th>ZipCode</th>\n",
       "      <th>Model Year</th>\n",
       "      <th>Fuel</th>\n",
       "      <th>Make</th>\n",
       "      <th>Duty</th>\n",
       "      <th>Vehicles</th>\n",
       "    </tr>\n",
       "  </thead>\n",
       "  <tbody>\n",
       "    <tr>\n",
       "      <th>0</th>\n",
       "      <td>1</td>\n",
       "      <td>10/1/2018</td>\n",
       "      <td>90000</td>\n",
       "      <td>2006</td>\n",
       "      <td>Gasoline</td>\n",
       "      <td>OTHER/UNK</td>\n",
       "      <td>Light</td>\n",
       "      <td>1</td>\n",
       "    </tr>\n",
       "    <tr>\n",
       "      <th>1</th>\n",
       "      <td>2</td>\n",
       "      <td>10/1/2018</td>\n",
       "      <td>90000</td>\n",
       "      <td>2014</td>\n",
       "      <td>Gasoline</td>\n",
       "      <td>OTHER/UNK</td>\n",
       "      <td>Light</td>\n",
       "      <td>1</td>\n",
       "    </tr>\n",
       "    <tr>\n",
       "      <th>2</th>\n",
       "      <td>3</td>\n",
       "      <td>10/1/2018</td>\n",
       "      <td>90000</td>\n",
       "      <td>2016</td>\n",
       "      <td>Gasoline</td>\n",
       "      <td>OTHER/UNK</td>\n",
       "      <td>Light</td>\n",
       "      <td>1</td>\n",
       "    </tr>\n",
       "    <tr>\n",
       "      <th>3</th>\n",
       "      <td>4</td>\n",
       "      <td>10/1/2018</td>\n",
       "      <td>90000</td>\n",
       "      <td>2017</td>\n",
       "      <td>Gasoline</td>\n",
       "      <td>OTHER/UNK</td>\n",
       "      <td>Light</td>\n",
       "      <td>1</td>\n",
       "    </tr>\n",
       "    <tr>\n",
       "      <th>4</th>\n",
       "      <td>5</td>\n",
       "      <td>10/1/2018</td>\n",
       "      <td>90000</td>\n",
       "      <td>&lt;2006</td>\n",
       "      <td>Diesel and Diesel Hybrid</td>\n",
       "      <td>OTHER/UNK</td>\n",
       "      <td>Heavy</td>\n",
       "      <td>55</td>\n",
       "    </tr>\n",
       "  </tbody>\n",
       "</table>\n",
       "</div>"
      ],
      "text/plain": [
       "   _id       Date  ZipCode Model Year                      Fuel       Make  \\\n",
       "0    1  10/1/2018    90000       2006                  Gasoline  OTHER/UNK   \n",
       "1    2  10/1/2018    90000       2014                  Gasoline  OTHER/UNK   \n",
       "2    3  10/1/2018    90000       2016                  Gasoline  OTHER/UNK   \n",
       "3    4  10/1/2018    90000       2017                  Gasoline  OTHER/UNK   \n",
       "4    5  10/1/2018    90000      <2006  Diesel and Diesel Hybrid  OTHER/UNK   \n",
       "\n",
       "    Duty  Vehicles  \n",
       "0  Light         1  \n",
       "1  Light         1  \n",
       "2  Light         1  \n",
       "3  Light         1  \n",
       "4  Heavy        55  "
      ]
     },
     "execution_count": 9,
     "metadata": {},
     "output_type": "execute_result"
    }
   ],
   "source": [
    "data_1.head()"
   ]
  },
  {
   "cell_type": "code",
   "execution_count": 10,
   "id": "4d89dd35",
   "metadata": {},
   "outputs": [],
   "source": [
    "#ask about including the last zip code area of 90704"
   ]
  },
  {
   "cell_type": "code",
   "execution_count": 11,
   "id": "62ba5dcc",
   "metadata": {},
   "outputs": [],
   "source": [
    "la_county_zip_codes = [90001, 90002, 90003, 90004, 90005, 90006, 90007, 90008, 90010, 90011, 90012, 90013, 90014, 90015, 90016, 90017, 90018, 90019, 90020, 90021, 90022, 90023, 90024, 90025, 90026, 90027, 90028, 90029, 90031, 90032, 90033, 90034, 90035, 90036, 90037, 90038, 90039, 90041, 90042, 90043, 90044, 90045, 90046, 90047, 90048, 90049, 90056, 90057, 90058, 90059, 90061, 90062, 90063, 90064, 90065, 90066, 90067, 90068, 90077, 90089, 90094, 90095, 90201, 90210, 90211, 90212, 90220, 90221, 90222, 90230, 90232, 90240, 90241, 90242, 90245, 90247, 90248, 90249, 90250, 90254, 90255, 90260, 90261, 90262, 90263, 90265, 90266, 90270, 90272, 90274, 90275, 90277, 90278, 90280, 90290, 90291, 90292, 90293, 90301, 90302, 90303, 90304, 90305, 90401, 90402, 90403, 90404, 90405, 90501, 90502, 90717, 90731, 90732, 90733, 90744, 90748, 90810, 91030, 91031, 91103, 91105, 91107, 91108, 91214, 91303, 91304, 91306, 91307, 91311, 91316, 91324, 91325, 91326, 91331, 91335, 91340, 91342, 91343, 91344, 91345, 91350, 91352, 91354, 91355, 91356, 91364, 91367, 91402, 91405, 91406, 91423, 91504, 91505, 91506, 91601, 91602, 91604, 91605, 91606, 91607, 91608, 91702, 91706, 91711, 91722, 91724, 91731, 91732, 91733, 91734, 91735, 91741, 91744, 91745, 91746, 91748, 91749, 91750, 91754, 91755, 91756, 91765, 91766, 91767, 91768, 91770, 91773, 91775, 91776, 91778, 91780, 91789, 91790, 91791, 91792, 91801, 91803, 92397, 92821, 92823, 93243, 93510, 93523, 93532, 93534, 93535, 93536, 93543, 93544, 93550, 93551, 93552, 93553, 93563, 93591, 90704]"
   ]
  },
  {
   "cell_type": "code",
   "execution_count": 12,
   "id": "df70da5e",
   "metadata": {},
   "outputs": [],
   "source": [
    "Fuel_Types = [\"Gasoline\", \"Battery Electric\", \"Diesel and Diesel Hybrid\", \"Flex-Fuel\", \"Hybrid Gasoline\", \"Hydrogen Fuel Cell\", \"Natural Gas\", \"Other\", \"Plug-in Hybrid\"]"
   ]
  },
  {
   "cell_type": "code",
   "execution_count": 13,
   "id": "87774855",
   "metadata": {},
   "outputs": [],
   "source": [
    "Duty = [\"Light\", \"Heavy\"]"
   ]
  },
  {
   "cell_type": "code",
   "execution_count": 14,
   "id": "443006b9",
   "metadata": {},
   "outputs": [],
   "source": [
    "filter_condition = (\n",
    "    data_1[\"ZipCode\"].isin(la_county_zip_codes) &\n",
    "    data_1[\"Fuel\"].isin(Fuel_Types) &\n",
    "    data_1[\"Duty\"].isin(Duty))"
   ]
  },
  {
   "cell_type": "code",
   "execution_count": 15,
   "id": "3acf1752",
   "metadata": {},
   "outputs": [],
   "source": [
    "filtered_data_1 = filter_condition"
   ]
  },
  {
   "cell_type": "code",
   "execution_count": 16,
   "id": "67d40f1a",
   "metadata": {
    "scrolled": true
   },
   "outputs": [
    {
     "data": {
      "text/html": [
       "<div>\n",
       "<style scoped>\n",
       "    .dataframe tbody tr th:only-of-type {\n",
       "        vertical-align: middle;\n",
       "    }\n",
       "\n",
       "    .dataframe tbody tr th {\n",
       "        vertical-align: top;\n",
       "    }\n",
       "\n",
       "    .dataframe thead th {\n",
       "        text-align: right;\n",
       "    }\n",
       "</style>\n",
       "<table border=\"1\" class=\"dataframe\">\n",
       "  <thead>\n",
       "    <tr style=\"text-align: right;\">\n",
       "      <th></th>\n",
       "      <th>_id</th>\n",
       "      <th>Date</th>\n",
       "      <th>ZipCode</th>\n",
       "      <th>Model Year</th>\n",
       "      <th>Fuel</th>\n",
       "      <th>Make</th>\n",
       "      <th>Duty</th>\n",
       "      <th>Vehicles</th>\n",
       "    </tr>\n",
       "  </thead>\n",
       "  <tbody>\n",
       "    <tr>\n",
       "      <th>16</th>\n",
       "      <td>17</td>\n",
       "      <td>10/1/2018</td>\n",
       "      <td>90001</td>\n",
       "      <td>2006</td>\n",
       "      <td>Diesel and Diesel Hybrid</td>\n",
       "      <td>FORD</td>\n",
       "      <td>Heavy</td>\n",
       "      <td>16</td>\n",
       "    </tr>\n",
       "    <tr>\n",
       "      <th>17</th>\n",
       "      <td>18</td>\n",
       "      <td>10/1/2018</td>\n",
       "      <td>90001</td>\n",
       "      <td>2006</td>\n",
       "      <td>Diesel and Diesel Hybrid</td>\n",
       "      <td>OTHER/UNK</td>\n",
       "      <td>Heavy</td>\n",
       "      <td>23</td>\n",
       "    </tr>\n",
       "    <tr>\n",
       "      <th>18</th>\n",
       "      <td>19</td>\n",
       "      <td>10/1/2018</td>\n",
       "      <td>90001</td>\n",
       "      <td>2006</td>\n",
       "      <td>Diesel and Diesel Hybrid</td>\n",
       "      <td>OTHER/UNK</td>\n",
       "      <td>Light</td>\n",
       "      <td>9</td>\n",
       "    </tr>\n",
       "    <tr>\n",
       "      <th>19</th>\n",
       "      <td>20</td>\n",
       "      <td>10/1/2018</td>\n",
       "      <td>90001</td>\n",
       "      <td>2006</td>\n",
       "      <td>Battery Electric</td>\n",
       "      <td>OTHER/UNK</td>\n",
       "      <td>Light</td>\n",
       "      <td>1</td>\n",
       "    </tr>\n",
       "    <tr>\n",
       "      <th>20</th>\n",
       "      <td>21</td>\n",
       "      <td>10/1/2018</td>\n",
       "      <td>90001</td>\n",
       "      <td>2006</td>\n",
       "      <td>Flex-Fuel</td>\n",
       "      <td>CHEVROLET</td>\n",
       "      <td>Light</td>\n",
       "      <td>41</td>\n",
       "    </tr>\n",
       "    <tr>\n",
       "      <th>...</th>\n",
       "      <td>...</td>\n",
       "      <td>...</td>\n",
       "      <td>...</td>\n",
       "      <td>...</td>\n",
       "      <td>...</td>\n",
       "      <td>...</td>\n",
       "      <td>...</td>\n",
       "      <td>...</td>\n",
       "    </tr>\n",
       "    <tr>\n",
       "      <th>332332</th>\n",
       "      <td>332333</td>\n",
       "      <td>10/1/2018</td>\n",
       "      <td>93591</td>\n",
       "      <td>&lt;2006</td>\n",
       "      <td>Gasoline</td>\n",
       "      <td>VOLKSWAGEN</td>\n",
       "      <td>Light</td>\n",
       "      <td>30</td>\n",
       "    </tr>\n",
       "    <tr>\n",
       "      <th>332333</th>\n",
       "      <td>332334</td>\n",
       "      <td>10/1/2018</td>\n",
       "      <td>93591</td>\n",
       "      <td>&lt;2006</td>\n",
       "      <td>Gasoline</td>\n",
       "      <td>VOLVO</td>\n",
       "      <td>Light</td>\n",
       "      <td>14</td>\n",
       "    </tr>\n",
       "    <tr>\n",
       "      <th>332334</th>\n",
       "      <td>332335</td>\n",
       "      <td>10/1/2018</td>\n",
       "      <td>93591</td>\n",
       "      <td>&lt;2006</td>\n",
       "      <td>Hybrid Gasoline</td>\n",
       "      <td>OTHER/UNK</td>\n",
       "      <td>Light</td>\n",
       "      <td>10</td>\n",
       "    </tr>\n",
       "    <tr>\n",
       "      <th>332335</th>\n",
       "      <td>332336</td>\n",
       "      <td>10/1/2018</td>\n",
       "      <td>93591</td>\n",
       "      <td>&lt;2006</td>\n",
       "      <td>Natural Gas</td>\n",
       "      <td>OTHER/UNK</td>\n",
       "      <td>Light</td>\n",
       "      <td>1</td>\n",
       "    </tr>\n",
       "    <tr>\n",
       "      <th>332336</th>\n",
       "      <td>332337</td>\n",
       "      <td>10/1/2018</td>\n",
       "      <td>93591</td>\n",
       "      <td>&lt;2006</td>\n",
       "      <td>Other</td>\n",
       "      <td>OTHER/UNK</td>\n",
       "      <td>Light</td>\n",
       "      <td>1</td>\n",
       "    </tr>\n",
       "  </tbody>\n",
       "</table>\n",
       "<p>89927 rows × 8 columns</p>\n",
       "</div>"
      ],
      "text/plain": [
       "           _id       Date  ZipCode Model Year                      Fuel  \\\n",
       "16          17  10/1/2018    90001       2006  Diesel and Diesel Hybrid   \n",
       "17          18  10/1/2018    90001       2006  Diesel and Diesel Hybrid   \n",
       "18          19  10/1/2018    90001       2006  Diesel and Diesel Hybrid   \n",
       "19          20  10/1/2018    90001       2006          Battery Electric   \n",
       "20          21  10/1/2018    90001       2006                 Flex-Fuel   \n",
       "...        ...        ...      ...        ...                       ...   \n",
       "332332  332333  10/1/2018    93591      <2006                  Gasoline   \n",
       "332333  332334  10/1/2018    93591      <2006                  Gasoline   \n",
       "332334  332335  10/1/2018    93591      <2006           Hybrid Gasoline   \n",
       "332335  332336  10/1/2018    93591      <2006               Natural Gas   \n",
       "332336  332337  10/1/2018    93591      <2006                     Other   \n",
       "\n",
       "              Make   Duty  Vehicles  \n",
       "16            FORD  Heavy        16  \n",
       "17       OTHER/UNK  Heavy        23  \n",
       "18       OTHER/UNK  Light         9  \n",
       "19       OTHER/UNK  Light         1  \n",
       "20       CHEVROLET  Light        41  \n",
       "...            ...    ...       ...  \n",
       "332332  VOLKSWAGEN  Light        30  \n",
       "332333       VOLVO  Light        14  \n",
       "332334   OTHER/UNK  Light        10  \n",
       "332335   OTHER/UNK  Light         1  \n",
       "332336   OTHER/UNK  Light         1  \n",
       "\n",
       "[89927 rows x 8 columns]"
      ]
     },
     "execution_count": 16,
     "metadata": {},
     "output_type": "execute_result"
    }
   ],
   "source": [
    "data_1[filtered_data_1]"
   ]
  },
  {
   "cell_type": "code",
   "execution_count": 17,
   "id": "6b53420c",
   "metadata": {},
   "outputs": [],
   "source": [
    "data_1_filtered = data_1[filtered_data_1]"
   ]
  },
  {
   "cell_type": "code",
   "execution_count": 18,
   "id": "fa660899",
   "metadata": {},
   "outputs": [
    {
     "data": {
      "text/html": [
       "<div>\n",
       "<style scoped>\n",
       "    .dataframe tbody tr th:only-of-type {\n",
       "        vertical-align: middle;\n",
       "    }\n",
       "\n",
       "    .dataframe tbody tr th {\n",
       "        vertical-align: top;\n",
       "    }\n",
       "\n",
       "    .dataframe thead th {\n",
       "        text-align: right;\n",
       "    }\n",
       "</style>\n",
       "<table border=\"1\" class=\"dataframe\">\n",
       "  <thead>\n",
       "    <tr style=\"text-align: right;\">\n",
       "      <th></th>\n",
       "      <th>_id</th>\n",
       "      <th>Date</th>\n",
       "      <th>ZipCode</th>\n",
       "      <th>Model Year</th>\n",
       "      <th>Fuel</th>\n",
       "      <th>Make</th>\n",
       "      <th>Duty</th>\n",
       "      <th>Vehicles</th>\n",
       "    </tr>\n",
       "  </thead>\n",
       "  <tbody>\n",
       "    <tr>\n",
       "      <th>16</th>\n",
       "      <td>17</td>\n",
       "      <td>10/1/2018</td>\n",
       "      <td>90001</td>\n",
       "      <td>2006</td>\n",
       "      <td>Diesel and Diesel Hybrid</td>\n",
       "      <td>FORD</td>\n",
       "      <td>Heavy</td>\n",
       "      <td>16</td>\n",
       "    </tr>\n",
       "    <tr>\n",
       "      <th>17</th>\n",
       "      <td>18</td>\n",
       "      <td>10/1/2018</td>\n",
       "      <td>90001</td>\n",
       "      <td>2006</td>\n",
       "      <td>Diesel and Diesel Hybrid</td>\n",
       "      <td>OTHER/UNK</td>\n",
       "      <td>Heavy</td>\n",
       "      <td>23</td>\n",
       "    </tr>\n",
       "    <tr>\n",
       "      <th>18</th>\n",
       "      <td>19</td>\n",
       "      <td>10/1/2018</td>\n",
       "      <td>90001</td>\n",
       "      <td>2006</td>\n",
       "      <td>Diesel and Diesel Hybrid</td>\n",
       "      <td>OTHER/UNK</td>\n",
       "      <td>Light</td>\n",
       "      <td>9</td>\n",
       "    </tr>\n",
       "    <tr>\n",
       "      <th>19</th>\n",
       "      <td>20</td>\n",
       "      <td>10/1/2018</td>\n",
       "      <td>90001</td>\n",
       "      <td>2006</td>\n",
       "      <td>Battery Electric</td>\n",
       "      <td>OTHER/UNK</td>\n",
       "      <td>Light</td>\n",
       "      <td>1</td>\n",
       "    </tr>\n",
       "    <tr>\n",
       "      <th>20</th>\n",
       "      <td>21</td>\n",
       "      <td>10/1/2018</td>\n",
       "      <td>90001</td>\n",
       "      <td>2006</td>\n",
       "      <td>Flex-Fuel</td>\n",
       "      <td>CHEVROLET</td>\n",
       "      <td>Light</td>\n",
       "      <td>41</td>\n",
       "    </tr>\n",
       "  </tbody>\n",
       "</table>\n",
       "</div>"
      ],
      "text/plain": [
       "    _id       Date  ZipCode Model Year                      Fuel       Make  \\\n",
       "16   17  10/1/2018    90001       2006  Diesel and Diesel Hybrid       FORD   \n",
       "17   18  10/1/2018    90001       2006  Diesel and Diesel Hybrid  OTHER/UNK   \n",
       "18   19  10/1/2018    90001       2006  Diesel and Diesel Hybrid  OTHER/UNK   \n",
       "19   20  10/1/2018    90001       2006          Battery Electric  OTHER/UNK   \n",
       "20   21  10/1/2018    90001       2006                 Flex-Fuel  CHEVROLET   \n",
       "\n",
       "     Duty  Vehicles  \n",
       "16  Heavy        16  \n",
       "17  Heavy        23  \n",
       "18  Light         9  \n",
       "19  Light         1  \n",
       "20  Light        41  "
      ]
     },
     "execution_count": 18,
     "metadata": {},
     "output_type": "execute_result"
    }
   ],
   "source": [
    "data_1_filtered.head()"
   ]
  },
  {
   "cell_type": "code",
   "execution_count": 19,
   "id": "548704c3",
   "metadata": {},
   "outputs": [],
   "source": [
    "filter_condition_2 = (\n",
    "    data_2[\"ZipCode\"].isin(la_county_zip_codes) &\n",
    "    data_2[\"Fuel\"].isin(Fuel_Types) &\n",
    "    data_2[\"Duty\"].isin(Duty))"
   ]
  },
  {
   "cell_type": "code",
   "execution_count": 20,
   "id": "fbb3a3b1",
   "metadata": {},
   "outputs": [],
   "source": [
    "filtered_data_2 = filter_condition_2"
   ]
  },
  {
   "cell_type": "code",
   "execution_count": 21,
   "id": "f7e26c3e",
   "metadata": {},
   "outputs": [
    {
     "data": {
      "text/html": [
       "<div>\n",
       "<style scoped>\n",
       "    .dataframe tbody tr th:only-of-type {\n",
       "        vertical-align: middle;\n",
       "    }\n",
       "\n",
       "    .dataframe tbody tr th {\n",
       "        vertical-align: top;\n",
       "    }\n",
       "\n",
       "    .dataframe thead th {\n",
       "        text-align: right;\n",
       "    }\n",
       "</style>\n",
       "<table border=\"1\" class=\"dataframe\">\n",
       "  <thead>\n",
       "    <tr style=\"text-align: right;\">\n",
       "      <th></th>\n",
       "      <th>_id</th>\n",
       "      <th>Date</th>\n",
       "      <th>ZipCode</th>\n",
       "      <th>Model Year</th>\n",
       "      <th>Fuel</th>\n",
       "      <th>Make</th>\n",
       "      <th>Duty</th>\n",
       "      <th>Vehicles</th>\n",
       "    </tr>\n",
       "  </thead>\n",
       "  <tbody>\n",
       "    <tr>\n",
       "      <th>17</th>\n",
       "      <td>18</td>\n",
       "      <td>12/31/2022</td>\n",
       "      <td>90001</td>\n",
       "      <td>2008</td>\n",
       "      <td>Gasoline</td>\n",
       "      <td>OTHER/UNK</td>\n",
       "      <td>Heavy</td>\n",
       "      <td>6</td>\n",
       "    </tr>\n",
       "    <tr>\n",
       "      <th>18</th>\n",
       "      <td>19</td>\n",
       "      <td>12/31/2022</td>\n",
       "      <td>90001</td>\n",
       "      <td>2008</td>\n",
       "      <td>Gasoline</td>\n",
       "      <td>OTHER/UNK</td>\n",
       "      <td>Light</td>\n",
       "      <td>62</td>\n",
       "    </tr>\n",
       "    <tr>\n",
       "      <th>20</th>\n",
       "      <td>21</td>\n",
       "      <td>12/31/2022</td>\n",
       "      <td>90001</td>\n",
       "      <td>2008</td>\n",
       "      <td>Gasoline</td>\n",
       "      <td>FORD</td>\n",
       "      <td>Light</td>\n",
       "      <td>63</td>\n",
       "    </tr>\n",
       "    <tr>\n",
       "      <th>21</th>\n",
       "      <td>22</td>\n",
       "      <td>12/31/2022</td>\n",
       "      <td>90001</td>\n",
       "      <td>2008</td>\n",
       "      <td>Gasoline</td>\n",
       "      <td>GMC</td>\n",
       "      <td>Light</td>\n",
       "      <td>25</td>\n",
       "    </tr>\n",
       "    <tr>\n",
       "      <th>22</th>\n",
       "      <td>23</td>\n",
       "      <td>12/31/2022</td>\n",
       "      <td>90001</td>\n",
       "      <td>2008</td>\n",
       "      <td>Gasoline</td>\n",
       "      <td>CHEVROLET</td>\n",
       "      <td>Light</td>\n",
       "      <td>87</td>\n",
       "    </tr>\n",
       "    <tr>\n",
       "      <th>...</th>\n",
       "      <td>...</td>\n",
       "      <td>...</td>\n",
       "      <td>...</td>\n",
       "      <td>...</td>\n",
       "      <td>...</td>\n",
       "      <td>...</td>\n",
       "      <td>...</td>\n",
       "      <td>...</td>\n",
       "    </tr>\n",
       "    <tr>\n",
       "      <th>433870</th>\n",
       "      <td>433871</td>\n",
       "      <td>12/31/2022</td>\n",
       "      <td>93591</td>\n",
       "      <td>&lt;2009</td>\n",
       "      <td>Flex-Fuel</td>\n",
       "      <td>OTHER/UNK</td>\n",
       "      <td>Heavy</td>\n",
       "      <td>1</td>\n",
       "    </tr>\n",
       "    <tr>\n",
       "      <th>433871</th>\n",
       "      <td>433872</td>\n",
       "      <td>12/31/2022</td>\n",
       "      <td>93591</td>\n",
       "      <td>&lt;2009</td>\n",
       "      <td>Flex-Fuel</td>\n",
       "      <td>OTHER/UNK</td>\n",
       "      <td>Light</td>\n",
       "      <td>16</td>\n",
       "    </tr>\n",
       "    <tr>\n",
       "      <th>433873</th>\n",
       "      <td>433874</td>\n",
       "      <td>12/31/2022</td>\n",
       "      <td>93591</td>\n",
       "      <td>&lt;2009</td>\n",
       "      <td>Flex-Fuel</td>\n",
       "      <td>FORD</td>\n",
       "      <td>Light</td>\n",
       "      <td>15</td>\n",
       "    </tr>\n",
       "    <tr>\n",
       "      <th>433874</th>\n",
       "      <td>433875</td>\n",
       "      <td>12/31/2022</td>\n",
       "      <td>93591</td>\n",
       "      <td>&lt;2009</td>\n",
       "      <td>Flex-Fuel</td>\n",
       "      <td>CHEVROLET</td>\n",
       "      <td>Light</td>\n",
       "      <td>21</td>\n",
       "    </tr>\n",
       "    <tr>\n",
       "      <th>433875</th>\n",
       "      <td>433876</td>\n",
       "      <td>12/31/2022</td>\n",
       "      <td>93591</td>\n",
       "      <td>&lt;2009</td>\n",
       "      <td>Natural Gas</td>\n",
       "      <td>OTHER/UNK</td>\n",
       "      <td>Light</td>\n",
       "      <td>4</td>\n",
       "    </tr>\n",
       "  </tbody>\n",
       "</table>\n",
       "<p>98652 rows × 8 columns</p>\n",
       "</div>"
      ],
      "text/plain": [
       "           _id        Date  ZipCode Model Year         Fuel       Make   Duty  \\\n",
       "17          18  12/31/2022    90001       2008     Gasoline  OTHER/UNK  Heavy   \n",
       "18          19  12/31/2022    90001       2008     Gasoline  OTHER/UNK  Light   \n",
       "20          21  12/31/2022    90001       2008     Gasoline       FORD  Light   \n",
       "21          22  12/31/2022    90001       2008     Gasoline        GMC  Light   \n",
       "22          23  12/31/2022    90001       2008     Gasoline  CHEVROLET  Light   \n",
       "...        ...         ...      ...        ...          ...        ...    ...   \n",
       "433870  433871  12/31/2022    93591      <2009    Flex-Fuel  OTHER/UNK  Heavy   \n",
       "433871  433872  12/31/2022    93591      <2009    Flex-Fuel  OTHER/UNK  Light   \n",
       "433873  433874  12/31/2022    93591      <2009    Flex-Fuel       FORD  Light   \n",
       "433874  433875  12/31/2022    93591      <2009    Flex-Fuel  CHEVROLET  Light   \n",
       "433875  433876  12/31/2022    93591      <2009  Natural Gas  OTHER/UNK  Light   \n",
       "\n",
       "        Vehicles  \n",
       "17             6  \n",
       "18            62  \n",
       "20            63  \n",
       "21            25  \n",
       "22            87  \n",
       "...          ...  \n",
       "433870         1  \n",
       "433871        16  \n",
       "433873        15  \n",
       "433874        21  \n",
       "433875         4  \n",
       "\n",
       "[98652 rows x 8 columns]"
      ]
     },
     "execution_count": 21,
     "metadata": {},
     "output_type": "execute_result"
    }
   ],
   "source": [
    "data_2[filtered_data_2]"
   ]
  },
  {
   "cell_type": "code",
   "execution_count": 22,
   "id": "211892d9",
   "metadata": {},
   "outputs": [],
   "source": [
    "data_2_filtered = data_2[filtered_data_2]"
   ]
  },
  {
   "cell_type": "code",
   "execution_count": 23,
   "id": "cd4c5952",
   "metadata": {},
   "outputs": [
    {
     "data": {
      "text/html": [
       "<div>\n",
       "<style scoped>\n",
       "    .dataframe tbody tr th:only-of-type {\n",
       "        vertical-align: middle;\n",
       "    }\n",
       "\n",
       "    .dataframe tbody tr th {\n",
       "        vertical-align: top;\n",
       "    }\n",
       "\n",
       "    .dataframe thead th {\n",
       "        text-align: right;\n",
       "    }\n",
       "</style>\n",
       "<table border=\"1\" class=\"dataframe\">\n",
       "  <thead>\n",
       "    <tr style=\"text-align: right;\">\n",
       "      <th></th>\n",
       "      <th>_id</th>\n",
       "      <th>Date</th>\n",
       "      <th>ZipCode</th>\n",
       "      <th>Model Year</th>\n",
       "      <th>Fuel</th>\n",
       "      <th>Make</th>\n",
       "      <th>Duty</th>\n",
       "      <th>Vehicles</th>\n",
       "    </tr>\n",
       "  </thead>\n",
       "  <tbody>\n",
       "    <tr>\n",
       "      <th>17</th>\n",
       "      <td>18</td>\n",
       "      <td>12/31/2022</td>\n",
       "      <td>90001</td>\n",
       "      <td>2008</td>\n",
       "      <td>Gasoline</td>\n",
       "      <td>OTHER/UNK</td>\n",
       "      <td>Heavy</td>\n",
       "      <td>6</td>\n",
       "    </tr>\n",
       "    <tr>\n",
       "      <th>18</th>\n",
       "      <td>19</td>\n",
       "      <td>12/31/2022</td>\n",
       "      <td>90001</td>\n",
       "      <td>2008</td>\n",
       "      <td>Gasoline</td>\n",
       "      <td>OTHER/UNK</td>\n",
       "      <td>Light</td>\n",
       "      <td>62</td>\n",
       "    </tr>\n",
       "    <tr>\n",
       "      <th>20</th>\n",
       "      <td>21</td>\n",
       "      <td>12/31/2022</td>\n",
       "      <td>90001</td>\n",
       "      <td>2008</td>\n",
       "      <td>Gasoline</td>\n",
       "      <td>FORD</td>\n",
       "      <td>Light</td>\n",
       "      <td>63</td>\n",
       "    </tr>\n",
       "    <tr>\n",
       "      <th>21</th>\n",
       "      <td>22</td>\n",
       "      <td>12/31/2022</td>\n",
       "      <td>90001</td>\n",
       "      <td>2008</td>\n",
       "      <td>Gasoline</td>\n",
       "      <td>GMC</td>\n",
       "      <td>Light</td>\n",
       "      <td>25</td>\n",
       "    </tr>\n",
       "    <tr>\n",
       "      <th>22</th>\n",
       "      <td>23</td>\n",
       "      <td>12/31/2022</td>\n",
       "      <td>90001</td>\n",
       "      <td>2008</td>\n",
       "      <td>Gasoline</td>\n",
       "      <td>CHEVROLET</td>\n",
       "      <td>Light</td>\n",
       "      <td>87</td>\n",
       "    </tr>\n",
       "  </tbody>\n",
       "</table>\n",
       "</div>"
      ],
      "text/plain": [
       "    _id        Date  ZipCode Model Year      Fuel       Make   Duty  Vehicles\n",
       "17   18  12/31/2022    90001       2008  Gasoline  OTHER/UNK  Heavy         6\n",
       "18   19  12/31/2022    90001       2008  Gasoline  OTHER/UNK  Light        62\n",
       "20   21  12/31/2022    90001       2008  Gasoline       FORD  Light        63\n",
       "21   22  12/31/2022    90001       2008  Gasoline        GMC  Light        25\n",
       "22   23  12/31/2022    90001       2008  Gasoline  CHEVROLET  Light        87"
      ]
     },
     "execution_count": 23,
     "metadata": {},
     "output_type": "execute_result"
    }
   ],
   "source": [
    "data_2_filtered.head()"
   ]
  },
  {
   "cell_type": "code",
   "execution_count": 21,
   "id": "a7d360d6",
   "metadata": {},
   "outputs": [],
   "source": [
    "fuel_year1 = data_1_filtered[\"Fuel\"]"
   ]
  },
  {
   "cell_type": "code",
   "execution_count": 22,
   "id": "9ef8ce61",
   "metadata": {},
   "outputs": [],
   "source": [
    "fuel_year2 = data_2_filtered[\"Fuel\"]"
   ]
  },
  {
   "cell_type": "code",
   "execution_count": 23,
   "id": "cbde9ed3",
   "metadata": {},
   "outputs": [],
   "source": [
    "fuel_type_distribution_year1 = fuel_year1.value_counts()"
   ]
  },
  {
   "cell_type": "code",
   "execution_count": 24,
   "id": "005afdd2",
   "metadata": {},
   "outputs": [],
   "source": [
    "fuel_type_distribution_year2 = fuel_year2.value_counts()"
   ]
  },
  {
   "cell_type": "code",
   "execution_count": 25,
   "id": "0c849dfd",
   "metadata": {},
   "outputs": [],
   "source": [
    "fuel_type_difference = fuel_type_distribution_year2 - fuel_type_distribution_year1"
   ]
  },
  {
   "cell_type": "code",
   "execution_count": 26,
   "id": "7ae50075",
   "metadata": {},
   "outputs": [
    {
     "name": "stdout",
     "output_type": "stream",
     "text": [
      "\n",
      "Fuel Type Difference between Year 1 and Year 2:\n",
      "Fuel\n",
      "Battery Electric            1778\n",
      "Diesel and Diesel Hybrid     337\n",
      "Flex-Fuel                   -384\n",
      "Gasoline                    3517\n",
      "Hybrid Gasoline             1700\n",
      "Hydrogen Fuel Cell           617\n",
      "Natural Gas                   20\n",
      "Other                       -156\n",
      "Plug-in Hybrid              1296\n",
      "Name: count, dtype: int64\n"
     ]
    }
   ],
   "source": [
    "print(\"\\nFuel Type Difference between Year 1 and Year 2:\")\n",
    "print(fuel_type_difference)"
   ]
  },
  {
   "cell_type": "code",
   "execution_count": 27,
   "id": "9fcecaa4",
   "metadata": {},
   "outputs": [],
   "source": [
    "#difference in newly registered vehicles by fuel type between 2018 and 2022 within LA county."
   ]
  },
  {
   "cell_type": "code",
   "execution_count": 28,
   "id": "41cdbff4",
   "metadata": {},
   "outputs": [],
   "source": [
    "Total_Added_Cars_by_fuel_tpye = fuel_type_distribution_year2 + fuel_type_distribution_year1"
   ]
  },
  {
   "cell_type": "code",
   "execution_count": 29,
   "id": "cafb0be2",
   "metadata": {},
   "outputs": [
    {
     "name": "stdout",
     "output_type": "stream",
     "text": [
      "\n",
      "Total Added Cars By Fuel Type between Year 1 and Year 2:\n",
      "Fuel\n",
      "Battery Electric              7194\n",
      "Diesel and Diesel Hybrid     16731\n",
      "Flex-Fuel                    15870\n",
      "Gasoline                    121549\n",
      "Hybrid Gasoline              16102\n",
      "Hydrogen Fuel Cell            1319\n",
      "Natural Gas                   2750\n",
      "Other                          446\n",
      "Plug-in Hybrid                6618\n",
      "Name: count, dtype: int64\n"
     ]
    }
   ],
   "source": [
    "print(\"\\nTotal Added Cars By Fuel Type between Year 1 and Year 2:\")\n",
    "print(Total_Added_Cars_by_fuel_tpye)"
   ]
  },
  {
   "cell_type": "code",
   "execution_count": 30,
   "id": "5e3067aa",
   "metadata": {},
   "outputs": [],
   "source": [
    "total_registered_cars_by_fuel_type_and_zipcode = data_1_filtered.groupby([\"ZipCode\",\"Fuel\"])[\"Vehicles\"].sum() + data_2_filtered.groupby([\"ZipCode\",\"Fuel\"])[\"Vehicles\"].sum()"
   ]
  },
  {
   "cell_type": "code",
   "execution_count": 31,
   "id": "48768fa9",
   "metadata": {
    "scrolled": true
   },
   "outputs": [
    {
     "name": "stdout",
     "output_type": "stream",
     "text": [
      "ZipCode  Fuel                    \n",
      "90001    Battery Electric              100.0\n",
      "         Diesel and Diesel Hybrid     1640.0\n",
      "         Flex-Fuel                    2392.0\n",
      "         Gasoline                    61639.0\n",
      "         Hybrid Gasoline              1213.0\n",
      "                                      ...   \n",
      "93591    Gasoline                     9130.0\n",
      "         Hybrid Gasoline               227.0\n",
      "         Natural Gas                     5.0\n",
      "         Other                           NaN\n",
      "         Plug-in Hybrid                 26.0\n",
      "Name: Vehicles, Length: 1845, dtype: float64\n"
     ]
    }
   ],
   "source": [
    "print(total_registered_cars_by_fuel_type_and_zipcode)"
   ]
  },
  {
   "cell_type": "code",
   "execution_count": 32,
   "id": "a7aee01d",
   "metadata": {},
   "outputs": [],
   "source": [
    "total_registered_cars_by_fuel_type_2022 = data_2_filtered.groupby(\"Fuel\")[\"Vehicles\"].sum()"
   ]
  },
  {
   "cell_type": "code",
   "execution_count": 33,
   "id": "68916d9e",
   "metadata": {},
   "outputs": [
    {
     "name": "stdout",
     "output_type": "stream",
     "text": [
      "Fuel\n",
      "Battery Electric             145321\n",
      "Diesel and Diesel Hybrid     122812\n",
      "Flex-Fuel                    127824\n",
      "Gasoline                    4320454\n",
      "Hybrid Gasoline              256959\n",
      "Hydrogen Fuel Cell             3102\n",
      "Natural Gas                    9651\n",
      "Other                           748\n",
      "Plug-in Hybrid                62571\n",
      "Name: Vehicles, dtype: int64\n"
     ]
    }
   ],
   "source": [
    "print(total_registered_cars_by_fuel_type_2022)"
   ]
  },
  {
   "cell_type": "code",
   "execution_count": 34,
   "id": "da1fa5e9",
   "metadata": {},
   "outputs": [],
   "source": [
    "total_registered_cars_by_fuel_type_2018 = data_1_filtered.groupby(\"Fuel\")[\"Vehicles\"].sum()"
   ]
  },
  {
   "cell_type": "code",
   "execution_count": 35,
   "id": "a516d685",
   "metadata": {},
   "outputs": [
    {
     "name": "stdout",
     "output_type": "stream",
     "text": [
      "Fuel\n",
      "Battery Electric              39779\n",
      "Diesel and Diesel Hybrid     139763\n",
      "Flex-Fuel                    183768\n",
      "Gasoline                    4943253\n",
      "Hybrid Gasoline              216067\n",
      "Hydrogen Fuel Cell             1302\n",
      "Natural Gas                   10321\n",
      "Other                          1987\n",
      "Plug-in Hybrid                41869\n",
      "Name: Vehicles, dtype: int64\n"
     ]
    }
   ],
   "source": [
    "print(total_registered_cars_by_fuel_type_2018)"
   ]
  },
  {
   "cell_type": "code",
   "execution_count": 36,
   "id": "fc80b575",
   "metadata": {},
   "outputs": [],
   "source": [
    "difference_in_total_registered_vehicles_by_fuel_types_between_2018_and_2022 = data_2_filtered.groupby(\"Fuel\")[\"Vehicles\"].sum() - data_1_filtered.groupby(\"Fuel\")[\"Vehicles\"].sum()"
   ]
  },
  {
   "cell_type": "code",
   "execution_count": 37,
   "id": "7cef90d2",
   "metadata": {},
   "outputs": [
    {
     "name": "stdout",
     "output_type": "stream",
     "text": [
      "Fuel\n",
      "Battery Electric            105542\n",
      "Diesel and Diesel Hybrid    -16951\n",
      "Flex-Fuel                   -55944\n",
      "Gasoline                   -622799\n",
      "Hybrid Gasoline              40892\n",
      "Hydrogen Fuel Cell            1800\n",
      "Natural Gas                   -670\n",
      "Other                        -1239\n",
      "Plug-in Hybrid               20702\n",
      "Name: Vehicles, dtype: int64\n"
     ]
    }
   ],
   "source": [
    "print(difference_in_total_registered_vehicles_by_fuel_types_between_2018_and_2022)"
   ]
  },
  {
   "cell_type": "code",
   "execution_count": 38,
   "id": "fad44340",
   "metadata": {},
   "outputs": [],
   "source": [
    "battery_electric_vehicles = \"Battery Electric\""
   ]
  },
  {
   "cell_type": "code",
   "execution_count": 39,
   "id": "4f3041fe",
   "metadata": {},
   "outputs": [],
   "source": [
    "filtered_data_BEV_2022 = data_2[data_2[\"Fuel\"] == battery_electric_vehicles]"
   ]
  },
  {
   "cell_type": "code",
   "execution_count": 40,
   "id": "cf8063cd",
   "metadata": {},
   "outputs": [],
   "source": [
    "total_BEV_fuel_type_by_duty_2022 = filtered_data_BEV_2022.groupby(\"Duty\")[\"Vehicles\"].sum()"
   ]
  },
  {
   "cell_type": "code",
   "execution_count": 25,
   "id": "83c35c10",
   "metadata": {},
   "outputs": [
    {
     "ename": "SyntaxError",
     "evalue": "incomplete input (4020961279.py, line 1)",
     "output_type": "error",
     "traceback": [
      "\u001b[1;36m  Cell \u001b[1;32mIn[25], line 1\u001b[1;36m\u001b[0m\n\u001b[1;33m    data_2_filtered.grouby(\"light)\"[\"Duty\"].sum()\u001b[0m\n\u001b[1;37m                                                 ^\u001b[0m\n\u001b[1;31mSyntaxError\u001b[0m\u001b[1;31m:\u001b[0m incomplete input\n"
     ]
    }
   ],
   "source": [
    "data_2_filtered.grouby(\"light)\"[\"Duty\"].sum()"
   ]
  },
  {
   "cell_type": "code",
   "execution_count": 41,
   "id": "c42bc30a",
   "metadata": {},
   "outputs": [
    {
     "name": "stdout",
     "output_type": "stream",
     "text": [
      "Duty\n",
      "Heavy      1812\n",
      "Light    756275\n",
      "Unk        1040\n",
      "Name: Vehicles, dtype: int64\n"
     ]
    }
   ],
   "source": [
    "print(total_BEV_fuel_type_by_duty_2022)"
   ]
  },
  {
   "cell_type": "code",
   "execution_count": 42,
   "id": "16df7c74",
   "metadata": {},
   "outputs": [],
   "source": [
    "filtered_data_BEV_2018 = data_1[data_1[\"Fuel\"] == battery_electric_vehicles]"
   ]
  },
  {
   "cell_type": "code",
   "execution_count": 43,
   "id": "1e768504",
   "metadata": {},
   "outputs": [],
   "source": [
    "total_BEV_fuel_type_by_duty_2018 = filtered_data_BEV_2018.groupby(\"Duty\")[\"Vehicles\"].sum()"
   ]
  },
  {
   "cell_type": "code",
   "execution_count": 44,
   "id": "01581022",
   "metadata": {},
   "outputs": [
    {
     "name": "stdout",
     "output_type": "stream",
     "text": [
      "Duty\n",
      "Heavy       968\n",
      "Light    222538\n",
      "Name: Vehicles, dtype: int64\n"
     ]
    }
   ],
   "source": [
    "print(total_BEV_fuel_type_by_duty_2018)"
   ]
  },
  {
   "cell_type": "code",
   "execution_count": 45,
   "id": "f4ed3049",
   "metadata": {},
   "outputs": [],
   "source": [
    "difference_BEV_vehicles_by_duty_2018_to_2022 = filtered_data_BEV_2022.groupby(\"Duty\")[\"Vehicles\"].sum() - filtered_data_BEV_2018.groupby(\"Duty\")[\"Vehicles\"].sum()"
   ]
  },
  {
   "cell_type": "code",
   "execution_count": 46,
   "id": "8ecc7ea9",
   "metadata": {},
   "outputs": [
    {
     "name": "stdout",
     "output_type": "stream",
     "text": [
      "Duty\n",
      "Heavy       844.0\n",
      "Light    533737.0\n",
      "Unk           NaN\n",
      "Name: Vehicles, dtype: float64\n"
     ]
    }
   ],
   "source": [
    "print(difference_BEV_vehicles_by_duty_2018_to_2022)"
   ]
  },
  {
   "cell_type": "code",
   "execution_count": 47,
   "id": "d182b7d5",
   "metadata": {},
   "outputs": [],
   "source": [
    "change_in_total_registered_cars_by_fuel_type_and_zipcode = data_2_filtered.groupby([\"ZipCode\",\"Fuel\"])[\"Vehicles\"].sum() - data_1_filtered.groupby([\"ZipCode\",\"Fuel\"])[\"Vehicles\"].sum()"
   ]
  },
  {
   "cell_type": "code",
   "execution_count": 48,
   "id": "467fb9d2",
   "metadata": {},
   "outputs": [
    {
     "name": "stdout",
     "output_type": "stream",
     "text": [
      "ZipCode  Fuel                    \n",
      "90001    Battery Electric              80.0\n",
      "         Diesel and Diesel Hybrid     -90.0\n",
      "         Flex-Fuel                   -160.0\n",
      "         Gasoline                   -2407.0\n",
      "         Hybrid Gasoline              281.0\n",
      "                                      ...  \n",
      "93591    Gasoline                    -140.0\n",
      "         Hybrid Gasoline               65.0\n",
      "         Natural Gas                    3.0\n",
      "         Other                          NaN\n",
      "         Plug-in Hybrid                16.0\n",
      "Name: Vehicles, Length: 1845, dtype: float64\n"
     ]
    }
   ],
   "source": [
    "print(change_in_total_registered_cars_by_fuel_type_and_zipcode)"
   ]
  },
  {
   "cell_type": "code",
   "execution_count": 50,
   "id": "43d52d47",
   "metadata": {
    "scrolled": false
   },
   "outputs": [
    {
     "data": {
      "image/png": "[encoded data removed]",
      "text/plain": [
       "<Figure size 640x480 with 1 Axes>"
      ]
     },
     "metadata": {},
     "output_type": "display_data"
    }
   ],
   "source": [
    "fuel_type_distribution_year1.plot(kind='bar', color=['blue', 'red', 'purple', 'orange', 'green', 'yellow', 'brown', 'grey', 'black'])\n",
    "plt.xlabel('Fuel Type')\n",
    "plt.ylabel('Number of Vehicles')\n",
    "plt.title('Number of Vehicles per fuel type in 2018')\n",
    "plt.savefig('Number Vehicles by fuel type', format='pdf')\n",
    "plt.show()"
   ]
  },
  {
   "cell_type": "code",
   "execution_count": 51,
   "id": "5d79f89a",
   "metadata": {},
   "outputs": [
    {
     "data": {
      "image/png": "[encoded data removed]",
      "text/plain": [
       "<Figure size 640x480 with 1 Axes>"
      ]
     },
     "metadata": {},
     "output_type": "display_data"
    }
   ],
   "source": [
    "fuel_type_distribution_year2.plot(kind='bar', color=['blue', 'red', 'purple', 'orange', 'green', 'yellow', 'brown', 'grey', 'black'])\n",
    "plt.xlabel('Fuel Type')\n",
    "plt.ylabel('Number of Vehicles')\n",
    "plt.title('Number of Vehicles per fuel type in 2022')\n",
    "plt.savefig('Number Vehicles by fuel type', format='pdf')\n",
    "plt.show()"
   ]
  },
  {
   "cell_type": "code",
   "execution_count": 52,
   "id": "0d8f544e",
   "metadata": {},
   "outputs": [
    {
     "data": {
      "image/png": "[encoded data removed]",
      "text/plain": [
       "<Figure size 640x480 with 1 Axes>"
      ]
     },
     "metadata": {},
     "output_type": "display_data"
    }
   ],
   "source": [
    "fuel_type_difference.plot(kind='bar', color=['blue', 'red', 'purple', 'orange', 'green', 'yellow', 'brown', 'grey', 'black'])\n",
    "plt.xlabel('Fuel Type')\n",
    "plt.ylabel('Number of Vehicles')\n",
    "plt.title('Change in Number Vehicles by fuel type between 2018 and 2022')\n",
    "plt.savefig('Change in Number Vehicles by fuel type', format='pdf')\n",
    "plt.show()"
   ]
  },
  {
   "cell_type": "code",
   "execution_count": 62,
   "id": "9423c1f2",
   "metadata": {},
   "outputs": [],
   "source": [
    "Fuel_Types_Scatter = [\"Gasoline\", \"Battery Electric\"]\n",
    "filter_condition_Scatter_2 = (\n",
    "    data_2[\"ZipCode\"].isin(la_county_zip_codes) &\n",
    "    data_2[\"Fuel\"].isin(Fuel_Types_Scatter) &\n",
    "    data_2[\"Duty\"].isin(Duty))\n",
    "filtered_data_scatter = filter_condition_Scatter_2\n",
    "Scatter_data_2022 = data_2[filtered_data_scatter]"
   ]
  },
  {
   "cell_type": "code",
   "execution_count": 63,
   "id": "67cdc8e9",
   "metadata": {},
   "outputs": [
    {
     "data": {
      "text/plain": [
       "ZipCode  Fuel            \n",
       "90001    Battery Electric       90\n",
       "         Gasoline            29616\n",
       "90002    Battery Electric       98\n",
       "         Gasoline            27115\n",
       "90003    Battery Electric      121\n",
       "                             ...  \n",
       "93553    Gasoline             1206\n",
       "93563    Battery Electric        1\n",
       "         Gasoline               82\n",
       "93591    Battery Electric       20\n",
       "         Gasoline             4495\n",
       "Name: Vehicles, Length: 427, dtype: int64"
      ]
     },
     "execution_count": 63,
     "metadata": {},
     "output_type": "execute_result"
    }
   ],
   "source": [
    "Scatter_data_2022.groupby([\"ZipCode\",\"Fuel\"])[\"Vehicles\"].sum()"
   ]
  },
  {
   "cell_type": "code",
   "execution_count": null,
   "id": "d758be2a",
   "metadata": {},
   "outputs": [],
   "source": []
  }
 ],
 "metadata": {
  "kernelspec": {
   "display_name": "Python 3 (ipykernel)",
   "language": "python",
   "name": "python3"
  },
  "language_info": {
   "codemirror_mode": {
    "name": "ipython",
    "version": 3
   },
   "file_extension": ".py",
   "mimetype": "text/x-python",
   "name": "python",
   "nbconvert_exporter": "python",
   "pygments_lexer": "ipython3",
   "version": "3.11.5"
  }
 },
 "nbformat": 4,
 "nbformat_minor": 5
}
